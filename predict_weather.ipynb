{
 "cells": [
  {
   "attachments": {},
   "cell_type": "markdown",
   "metadata": {},
   "source": [
    "# Predict weather\n",
    "For renewable generation, predict:\n",
    "- Irradiance (GHI)\n",
    "- Temperature\n",
    "- Wind speed"
   ]
  },
  {
   "cell_type": "code",
   "execution_count": null,
   "metadata": {},
   "outputs": [],
   "source": [
    "#!pip install darts\n",
    "#!pip install pandas\n",
    "#!pip install numpy\n",
    "#!pip install plotly\n",
    "\n",
    "#!pip install pyyaml==5.4.1 # Google colab\n",
    "\n",
    "#GPU: https://unit8co.github.io/darts/userguide/gpu_and_tpu_usage.html\n",
    "\n",
    "#!pip install cloud-tpu-client==0.10 https://storage.googleapis.com/tpu-pytorch/wheels/torch_xla-1.9-cp37-cp37m-linux_x86_64.whl\n",
    "#!pip install torch==1.9.0+cu111 torchvision==0.10.0+cu111 torchtext==0.10.0 -f https://download.pytorch.org/whl/cu111/torch_stable.html\n",
    "#!pip install cloud-tpu-client==0.10 https://storage.googleapis.com/tpu-pytorch/wheels/torch_xla-1.9-cp37-cp37m-linux_x86_64.whl\n",
    "#!python -m pip uninstall matplotlib\n",
    "#!pip install matplotlib==3.1.3"
   ]
  },
  {
   "cell_type": "code",
   "execution_count": null,
   "metadata": {},
   "outputs": [],
   "source": [
    "import darts as dts\n",
    "import pandas as pd\n",
    "import numpy as np\n",
    "import plotly.express as px"
   ]
  },
  {
   "cell_type": "code",
   "execution_count": null,
   "metadata": {},
   "outputs": [],
   "source": [
    "from darts.utils.timeseries_generation import datetime_attribute_timeseries as dt_attr\n",
    "#from darts import concatenate"
   ]
  },
  {
   "cell_type": "code",
   "execution_count": null,
   "metadata": {},
   "outputs": [],
   "source": [
    "# df = pd.read_csv('dataset1_tropical.csv', sep=\";\")\n",
    "#df['datetime'] = pd.to_datetime(df['datetime'])\n",
    "\n",
    "# load data\n",
    "df2017 = pd.read_csv('data/361685_47.41_0.78_2017.csv', skiprows=2)\n",
    "df2018 = pd.read_csv('data/361685_47.41_0.78_2018.csv', skiprows=2)\n",
    "df2019 = pd.read_csv('data/361685_47.41_0.78_2019.csv', skiprows=2)\n",
    "\n",
    "#concatenate in a whole dataset\n",
    "df = pd.concat([df2017, df2018, df2019])\n",
    "\n",
    "#genenarate a datetime index column\n",
    "df['datetime'] = pd.to_datetime(df['Year'].astype(str) +'-' \n",
    "                                + df['Month'].astype(str) \n",
    "                                + '-' + df['Day'].astype(str) \n",
    "                                + ' ' + df['Hour'].astype(str) \n",
    "                                + ':' + df['Minute'].astype(str) + ':00'\n",
    "                                )\n",
    "\n",
    "#set datetiem as index\n",
    "df = df.set_index('datetime')\n",
    "\n",
    "#drop useless columns\n",
    "df = df.drop(['Year', 'Month', 'Day', 'Hour', 'Minute'], axis=1)\n",
    "\n",
    "# accelerate processing by reducing information\n",
    "#df = df.astype(np.float32)"
   ]
  },
  {
   "cell_type": "code",
   "execution_count": null,
   "metadata": {},
   "outputs": [],
   "source": [
    "df.info()\n",
    "# df.isnull().sum()  # missing value"
   ]
  },
  {
   "cell_type": "code",
   "execution_count": null,
   "metadata": {},
   "outputs": [],
   "source": [
    "frequency = pd.Timedelta('30 min')\n",
    "df_resampled = df.resample(frequency).mean()\n",
    "df_resampled.info()"
   ]
  },
  {
   "cell_type": "code",
   "execution_count": null,
   "metadata": {},
   "outputs": [],
   "source": [
    "fig = px.imshow(df_resampled.corr())\n",
    "fig.show()"
   ]
  },
  {
   "cell_type": "code",
   "execution_count": null,
   "metadata": {},
   "outputs": [],
   "source": [
    "fig = px.imshow(df.between_time('9:00','17:00').corr())\n",
    "fig.show()"
   ]
  },
  {
   "cell_type": "code",
   "execution_count": null,
   "metadata": {},
   "outputs": [],
   "source": [
    "fig = px.line(df_resampled.loc['2017-1-1':'2017-12-31'])\n",
    "fig.show()"
   ]
  },
  {
   "cell_type": "code",
   "execution_count": null,
   "metadata": {},
   "outputs": [],
   "source": [
    "N_DAY = 96\n",
    "N_PRED = int(N_DAY * 1.5)"
   ]
  },
  {
   "cell_type": "code",
   "execution_count": null,
   "metadata": {},
   "outputs": [],
   "source": [
    "# extract explainable variables\n",
    "series_ghi = dts.timeseries.TimeSeries.from_series(df['GHI'])\n",
    "#series_pressure = dts.timeseries.TimeSeries.from_series(df['Pressure'])\n",
    "#series_water = dts.timeseries.TimeSeries.from_series(df['Precipitable Water'])\n",
    "#series_wddir= dts.timeseries.TimeSeries.from_series(df['Wind Direction'])\n",
    "series_wdspeed = dts.timeseries.TimeSeries.from_series(df['Wind Speed'])"
   ]
  },
  {
   "cell_type": "code",
   "execution_count": null,
   "metadata": {},
   "outputs": [],
   "source": [
    "# normalize to use deep learning\n",
    "from darts.dataprocessing.transformers import Scaler\n",
    "scaler_ghi, scaler_wdspeed = Scaler(), Scaler()\n",
    "# series_scaled\n",
    "series_s_ghi = scaler_ghi.fit_transform(series_ghi)\n",
    "series_s_wdspeed = scaler_wdspeed.fit_transform(series_wdspeed)\n",
    "\n",
    "# to inverse scaled with\n",
    "# scaler_ghi.inverse_transform(series_s_ghi).plot()"
   ]
  },
  {
   "cell_type": "code",
   "execution_count": null,
   "metadata": {},
   "outputs": [],
   "source": [
    "series_s_ghi.plot()"
   ]
  },
  {
   "cell_type": "code",
   "execution_count": null,
   "metadata": {},
   "outputs": [],
   "source": [
    "#fig = px.line(series_s_ghi.pd_dataframe())\n",
    "#fig.show()"
   ]
  },
  {
   "cell_type": "code",
   "execution_count": null,
   "metadata": {},
   "outputs": [],
   "source": [
    "# set covariate\n",
    "\n",
    "# covariate for renewable generation\n",
    "renew_covs = dts.concatenate(\n",
    "    [\n",
    "        # df.index.month,\n",
    "        dt_attr(df.index, \"month\", dtype=np.float32) / 12,  # month for seasons\n",
    "        dt_attr(df.index, \"hour\", dtype=np.float32) / 23,  # hours for sun light\n",
    "    ],\n",
    "    axis=\"component\",\n",
    ")\n",
    "\n",
    "# covariation for load consumption\n",
    "load_covs = dts.concatenate(\n",
    "    [\n",
    "        dt_attr(df.index, \"month\", dtype=np.float32) / 12,  # month for seasons\n",
    "        dt_attr(df.index, \"hour\", dtype=np.float32) / 23,  # hours for sun light\n",
    "        dt_attr(df.index, \"dayofweek\", dtype=np.float32) / \\\n",
    "        6  # for human consumption\n",
    "    ],\n",
    "    axis=\"component\",\n",
    ")\n",
    "load_covs = load_covs.add_holidays(\"FR\")  # for human consumption"
   ]
  },
  {
   "cell_type": "code",
   "execution_count": null,
   "metadata": {},
   "outputs": [],
   "source": [
    "test = dt_attr(df.index, \"month\", dtype=np.float32) / 12\n",
    "test[1:96*366].plot()"
   ]
  },
  {
   "cell_type": "code",
   "execution_count": null,
   "metadata": {},
   "outputs": [],
   "source": [
    "test = dt_attr(df.index, \"hour\", dtype=np.float32) / 23\n",
    "test[1:96*4].plot()"
   ]
  },
  {
   "cell_type": "code",
   "execution_count": null,
   "metadata": {},
   "outputs": [],
   "source": [
    "# concatenate a multivariate\n",
    "from darts import concatenate\n",
    "multivar_ghi = concatenate([series_s_ghi, series_s_wdspeed], axis=1)"
   ]
  },
  {
   "cell_type": "code",
   "execution_count": null,
   "metadata": {},
   "outputs": [],
   "source": [
    "# acf\n",
    "from darts.utils.statistics import plot_acf, check_seasonality, plot_pacf\n",
    "plot_acf(series_ghi, m=96, alpha=0.05, max_lag=96*3)\n",
    "plot_pacf(series_ghi, m=96, alpha=0.05, max_lag=96*3)"
   ]
  },
  {
   "cell_type": "code",
   "execution_count": null,
   "metadata": {},
   "outputs": [],
   "source": [
    "train, test = series_s_ghi.split_before(2./3.)\n",
    "train.plot(label=\"train\")\n",
    "test.plot(label=\"test\")"
   ]
  },
  {
   "cell_type": "code",
   "execution_count": null,
   "metadata": {},
   "outputs": [],
   "source": [
    "## ARIMA\n",
    "#https://towardsdatascience.com/creating-an-arima-model-for-time-series-forecasting-ff3b619b848d\n",
    "\n",
    "from darts.models.forecasting.arima import ARIMA\n",
    "\n",
    "model = ARIMA(p=N_DAY)\n",
    "\n",
    "# fit the model\n",
    "model.fit(series=train[1:N_DAY*2])#,\n",
    "          # past_covariates=renew_covs)#,\n",
    "          #future_covariates=renew_covs)"
   ]
  },
  {
   "cell_type": "code",
   "execution_count": null,
   "metadata": {},
   "outputs": [],
   "source": [
    "pred = model.predict(n=N_PRED)#,\n",
    "                     #series=test[1:N_DAY*15])#,  # this is only required for GFMs\n",
    "                     #past_covariates=past_covariates,\n",
    "                     #future_covariates=renew_covs)#,\n",
    "                     #num_samples = 1)"
   ]
  },
  {
   "cell_type": "code",
   "execution_count": null,
   "metadata": {},
   "outputs": [],
   "source": [
    "train[:N_DAY*15].plot(label=\"train\")\n",
    "pred.plot(label=\"test\")"
   ]
  },
  {
   "cell_type": "code",
   "execution_count": null,
   "metadata": {},
   "outputs": [],
   "source": [
    "from darts.metrics import coefficient_of_variation\n",
    "OFFSET = N_DAY*2 + N_PRED\n",
    "coefficient_of_variation(train[N_DAY*2:OFFSET],pred)"
   ]
  },
  {
   "cell_type": "code",
   "execution_count": null,
   "metadata": {},
   "outputs": [],
   "source": [
    "## TFT"
   ]
  },
  {
   "cell_type": "code",
   "execution_count": null,
   "metadata": {},
   "outputs": [],
   "source": [
    "from darts.models.forecasting.tft_model import TFTModel\n",
    "#GPU: https://unit8co.github.io/darts/userguide/gpu_and_tpu_usage.html\n",
    "\n",
    "# create one of Darts' forecasting model\n",
    "model = TFTModel(input_chunk_length=N_DAY * 7,\n",
    "                 output_chunk_length=N_DAY,\n",
    "                  force_reset=True,\n",
    "                 #pl_trainer_kwargs={\n",
    "                 #    \"accelerator\": \"gpu\",\n",
    "                 #    \"devices\": [0]\n",
    "                 #}\n",
    "                 )\n",
    "\n",
    "# fit the model\n",
    "model.fit(series=train[1:N_DAY*15],\n",
    "          # past_covariates=renew_covs)#,\n",
    "          future_covariates=renew_covs)\n"
   ]
  },
  {
   "cell_type": "code",
   "execution_count": null,
   "metadata": {},
   "outputs": [],
   "source": [
    "# make a prediction with the same covariate types\n",
    "pred = model.predict(n=N_DAY,\n",
    "                     series=test,  # this is only required for GFMs\n",
    "                     #past_covariates=past_covariates,\n",
    "                     future_covariates=renew_covs)"
   ]
  }
 ],
 "metadata": {
  "kernelspec": {
   "display_name": "Python 3.9.12 ('ml')",
   "language": "python",
   "name": "python3"
  },
  "language_info": {
   "codemirror_mode": {
    "name": "ipython",
    "version": 3
   },
   "file_extension": ".py",
   "mimetype": "text/x-python",
   "name": "python",
   "nbconvert_exporter": "python",
   "pygments_lexer": "ipython3",
   "version": "3.9.12"
  },
  "vscode": {
   "interpreter": {
    "hash": "7840ad2aa127fac37be33f76f52dd193def8c8b9df8560f5578444950e6fedea"
   }
  }
 },
 "nbformat": 4,
 "nbformat_minor": 4
}
